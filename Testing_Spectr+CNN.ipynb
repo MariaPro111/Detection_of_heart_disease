{
  "cells": [
    {
      "cell_type": "code",
      "execution_count": 2,
      "metadata": {
        "id": "eQN-PhrctLl9"
      },
      "outputs": [],
      "source": [
        "import pandas as pd\n",
        "import h5py\n",
        "import numpy as np\n",
        "import matplotlib.pyplot as plt\n",
        "import tensorflow as tf\n",
        "from scipy import signal"
      ]
    },
    {
      "cell_type": "markdown",
      "metadata": {
        "id": "f9kCrScQUVn0"
      },
      "source": [
        "# **1. Работа с данными**"
      ]
    },
    {
      "cell_type": "markdown",
      "metadata": {
        "id": "RCUxiYXqUtv_"
      },
      "source": [
        "# Анализ данных"
      ]
    },
    {
      "cell_type": "markdown",
      "metadata": {
        "id": "sEbCc6isUzF6"
      },
      "source": [
        "Обучение и тестирование модели будет производиться на датасете \"CODE-15%: a large scale annotated dataset of 12-lead ECGs\". Датасет был специально создан для обучения и тестирования моделей ML, поэтому данные не требуют дополнительной обработки. Датасет содержит записи экг, записанные с частотой 400 Гц длительностью 10 секунд в 12-ти отведениях, а также информацию о пациенте: id исследовния, возраст, пол, имеется ли: \"1dAVb\"(АВ-блокада 1-й степени) \\ \"RBBB\"(блокада правой ветви пучка гиса) \\ \"LBBB\" (блокада левой ветви пучка гиса) \\ \"SB\" (синусовая брадикардия) \\\n",
        "\"AF\" (есть ли у пациента фибрилляция предсердий или нет) \\\n",
        "\"ST\" (есть ли у пациента синусовая тахикардия или нет); id пациента, нормальная ли ЭКГ, умер ли пациент и время смерти, если да. Данные представлены в виде таблицы в формате .csv. На часть из них можно посмотреть ниже."
      ]
    },
    {
      "cell_type": "markdown",
      "metadata": {
        "id": "9g6cpGXxqpty"
      },
      "source": [
        "**Данные о пациентах**"
      ]
    },
    {
      "cell_type": "code",
      "execution_count": 3,
      "metadata": {
        "id": "dDBML9ktt0F3",
        "colab": {
          "base_uri": "https://localhost:8080/"
        },
        "outputId": "c6e5bdb2-bfa7-4bbf-e42c-190a3bcbc7a1"
      },
      "outputs": [
        {
          "output_type": "stream",
          "name": "stdout",
          "text": [
            "Mounted at /content/drive\n"
          ]
        }
      ],
      "source": [
        "from google.colab import drive\n",
        "drive.mount('/content/drive')"
      ]
    },
    {
      "cell_type": "markdown",
      "metadata": {
        "id": "1FJwypul5ozb"
      },
      "source": [
        "**Сигналы ЭКГ**\n",
        "\n",
        "Записи экг предсттавлены в виде 3-ёх мерного тензора (N, 4096, 12), где N - это количество исследований, 4096 - количество записанных сигналов, 12 - количество отведений."
      ]
    },
    {
      "cell_type": "markdown",
      "metadata": {
        "id": "Yj0_VWhK-Ugj"
      },
      "source": [
        "Загружаем записи экг."
      ]
    },
    {
      "cell_type": "code",
      "execution_count": null,
      "metadata": {
        "id": "JhOdzQPimSHq"
      },
      "outputs": [],
      "source": [
        "train_data = np.load('/content/drive/MyDrive/train_data.npy')\n",
        "train_results = np.load('/content/drive/MyDrive/train_results.npy')"
      ]
    },
    {
      "cell_type": "code",
      "execution_count": null,
      "metadata": {
        "id": "NxfBFA31KnYt"
      },
      "outputs": [],
      "source": [
        "data0 = np.load('/content/drive/MyDrive/data0.npy')\n",
        "result0 = np.load('/content/drive/MyDrive/results0.npy')\n",
        "\n",
        "data1 = np.load('/content/drive/MyDrive/data1.npy')\n",
        "result1 = np.load('/content/drive/MyDrive/results1.npy')\n",
        "\n",
        "data2 = np.load('/content/drive/MyDrive/data2.npy')\n",
        "result2 = np.load('/content/drive/MyDrive/results2.npy')\n",
        "\n",
        "data3 = np.load('/content/drive/MyDrive/data3.npy')\n",
        "result3 = np.load('/content/drive/MyDrive/results3.npy')\n",
        "\n",
        "data4 = np.load('/content/drive/MyDrive/data4.npy')\n",
        "result4 = np.load('/content/drive/MyDrive/results4.npy')\n",
        "\n",
        "data5 = np.load('/content/drive/MyDrive/data5.npy')\n",
        "result5 = np.load('/content/drive/MyDrive/results5.npy')\n",
        "\n",
        "data6 = np.load('/content/drive/MyDrive/data6.npy')\n",
        "result6 = np.load('/content/drive/MyDrive/results6.npy')\n",
        "\n",
        "data7 = np.load('/content/drive/MyDrive/data7.npy')\n",
        "result7 = np.load('/content/drive/MyDrive/results7.npy')\n",
        "\n",
        "data8 = np.load('/content/drive/MyDrive/data8.npy')\n",
        "result8 = np.load('/content/drive/MyDrive/results8.npy')\n",
        "\n",
        "data9 = np.load('/content/drive/MyDrive/data9.npy')\n",
        "result9 = np.load('/content/drive/MyDrive/results9.npy')"
      ]
    },
    {
      "cell_type": "code",
      "execution_count": null,
      "metadata": {
        "id": "EfLEXI73LtEx"
      },
      "outputs": [],
      "source": [
        "all_data = [data0, data1, data2, data3, data4, data5, data6, data7, data8, data9]\n",
        "all_results = [result0, result1, result2, result3, result4, result5, result6, result7, result8, result9]"
      ]
    },
    {
      "cell_type": "markdown",
      "metadata": {
        "id": "2n2jW5li_dzj"
      },
      "source": [
        "Каждая папка содержит 2 массива: 1) id исследований (для связи с пациентом); 2) тензор самих сигналов (N, 4096, 12)."
      ]
    },
    {
      "cell_type": "code",
      "execution_count": null,
      "metadata": {
        "colab": {
          "base_uri": "https://localhost:8080/"
        },
        "id": "56SJilBCAE4I",
        "outputId": "d4b3c69a-2085-41ec-8b4f-6282130dddee"
      },
      "outputs": [
        {
          "name": "stdout",
          "output_type": "stream",
          "text": [
            "Количество исследований в папке №0: (20000,)\n",
            "Количество исследований в папке №1: (20000,)\n",
            "Количество исследований в папке №2: (20000,)\n",
            "Количество исследований в папке №3: (20000,)\n",
            "Количество исследований в папке №4: (20000,)\n",
            "Количество исследований в папке №5: (20000,)\n",
            "№0: [ 590673  214626 2936711 ... 1444004 2659750  536312]\n",
            "№1: [4409337  835969 2540049 ...  523675  880632 2872039]\n",
            "№2: [  18903 2902407 4274913 ... 2866962 2661384 1179015]\n",
            "№3: [3190119  683626 2767061 ...  220811 2795569 1450162]\n",
            "№4: [ 920511  379941 3053027 ...  891207 3048377 1778106]\n",
            "№5: [2771471  927961 3112827 ... 1231970 1600485 1679281]\n"
          ]
        }
      ],
      "source": [
        "exam_id0 = np.array(signals_folder0['exam_id'])\n",
        "exam_id0 = exam_id0[0:20000]\n",
        "print(\"Количество исследований в папке №0:\", exam_id0.shape)\n",
        "\n",
        "exam_id1 = np.array(signals_folder1['exam_id'])\n",
        "exam_id1 = exam_id1[0:20000]\n",
        "print(\"Количество исследований в папке №1:\", exam_id1.shape)\n",
        "\n",
        "exam_id2 = np.array(signals_folder2['exam_id'])\n",
        "exam_id2 = exam_id2[0:20000]\n",
        "print(\"Количество исследований в папке №2:\", exam_id2.shape)\n",
        "\n",
        "exam_id3 = np.array(signals_folder3['exam_id'])\n",
        "exam_id3 = exam_id3[0:20000]\n",
        "print(\"Количество исследований в папке №3:\",exam_id3.shape)\n",
        "\n",
        "exam_id4 = np.array(signals_folder4['exam_id'])\n",
        "exam_id4 = exam_id4[0:20000]\n",
        "print(\"Количество исследований в папке №4:\",exam_id4.shape)\n",
        "\n",
        "exam_id5 = np.array(signals_folder5['exam_id'])\n",
        "exam_id5 = exam_id5[0:20000]\n",
        "print(\"Количество исследований в папке №5:\",exam_id5.shape)\n",
        "\n",
        "print(\"№0:\", exam_id0)\n",
        "print(\"№1:\", exam_id1)\n",
        "print(\"№2:\", exam_id2)\n",
        "print(\"№3:\", exam_id3)\n",
        "print(\"№4:\", exam_id4)\n",
        "print(\"№5:\", exam_id5)"
      ]
    },
    {
      "cell_type": "markdown",
      "metadata": {
        "id": "f84Z66zSDcsB"
      },
      "source": [
        "Для исследования будем использовать 100000 записей. Сопоставим каждому исследованию вектор размерности 6 из 0 и 1. 1 означает, что данная болезнь есть у пациента, a 0 - нет.  "
      ]
    },
    {
      "cell_type": "code",
      "execution_count": null,
      "metadata": {
        "colab": {
          "base_uri": "https://localhost:8080/"
        },
        "id": "CRmT3m4d-gFN",
        "outputId": "24109f22-9049-4ac6-9dcf-dfa27bc01729"
      },
      "outputs": [
        {
          "name": "stdout",
          "output_type": "stream",
          "text": [
            "(120000,)\n",
            "[ 590673  214626 2936711 ... 1231970 1600485 1679281]\n"
          ]
        }
      ],
      "source": [
        "exam_id = np.hstack([exam_id0, exam_id1, exam_id2, exam_id3, exam_id4, exam_id5])\n",
        "print(exam_id.shape)\n",
        "print(exam_id)"
      ]
    },
    {
      "cell_type": "markdown",
      "metadata": {
        "id": "ee0Hz2cmC9eZ"
      },
      "source": [
        "Каждому исследованию сопоставим его порядковый номер"
      ]
    },
    {
      "cell_type": "code",
      "execution_count": null,
      "metadata": {
        "id": "peCVnbo9CVCp"
      },
      "outputs": [],
      "source": [
        "id_dict = {}\n",
        "for i in range (0,345779):\n",
        "  id_dict[information.exam_id[i]] = i\n"
      ]
    },
    {
      "cell_type": "markdown",
      "metadata": {
        "id": "BDLBzYQBDGdS"
      },
      "source": [
        "Сопоставим каждому исследованию вектор размерности 6 из 0 и 1. 1 означает, что данная болезнь есть у пациента, a 0 - нет."
      ]
    },
    {
      "cell_type": "code",
      "execution_count": null,
      "metadata": {
        "colab": {
          "base_uri": "https://localhost:8080/"
        },
        "id": "MRUWnfYdDLnl",
        "outputId": "1a24f964-7529-4c5a-9530-2dd787ad1c1e"
      },
      "outputs": [
        {
          "name": "stdout",
          "output_type": "stream",
          "text": [
            "[[0. 0. 0. 0. 0. 0.]\n",
            " [0. 0. 0. 0. 0. 0.]\n",
            " [0. 0. 0. 0. 0. 0.]\n",
            " [0. 0. 0. 0. 0. 0.]\n",
            " [0. 0. 0. 0. 0. 0.]\n",
            " [0. 0. 0. 0. 0. 1.]\n",
            " [0. 0. 0. 0. 0. 0.]\n",
            " [0. 0. 0. 0. 0. 0.]\n",
            " [0. 0. 0. 0. 0. 0.]\n",
            " [0. 0. 0. 0. 0. 0.]\n",
            " [0. 0. 0. 0. 0. 0.]\n",
            " [0. 0. 0. 0. 0. 0.]\n",
            " [0. 0. 0. 0. 0. 0.]\n",
            " [0. 0. 0. 0. 0. 0.]\n",
            " [0. 0. 0. 0. 0. 0.]\n",
            " [0. 0. 0. 0. 0. 0.]\n",
            " [0. 0. 0. 0. 0. 0.]\n",
            " [0. 0. 0. 0. 0. 0.]\n",
            " [0. 0. 0. 0. 0. 0.]\n",
            " [0. 0. 0. 0. 0. 0.]]\n"
          ]
        }
      ],
      "source": [
        "results = np.eye(120000, 6)\n",
        "\n",
        "for i in range(0,120000):\n",
        "  ind = id_dict[exam_id[i]]\n",
        "\n",
        "  if information['1dAVb'][ind]:\n",
        "    results[i][0] = 1\n",
        "  else:\n",
        "    results[i][0] = 0\n",
        "\n",
        "  if information['RBBB'][ind]:\n",
        "    results[i][1] = 1\n",
        "  else:\n",
        "    results[i][1] = 0\n",
        "\n",
        "  if information['LBBB'][ind]:\n",
        "    results[i][2] = 1\n",
        "  else:\n",
        "    results[i][2] = 0\n",
        "\n",
        "  if information['SB'][ind]:\n",
        "    results[i][3] = 1\n",
        "  else:\n",
        "    results[i][3] = 0\n",
        "\n",
        "  if information['ST'][ind]:\n",
        "    results[i][4] = 1\n",
        "  else:\n",
        "    results[i][4] = 0\n",
        "\n",
        "  if information['AF'][ind]:\n",
        "    results[i][5] = 1\n",
        "  else:\n",
        "    results[i][5] = 0\n",
        "\n",
        "print(results[20000:20020,:])"
      ]
    },
    {
      "cell_type": "markdown",
      "metadata": {
        "id": "Vm9DECCxLlYX"
      },
      "source": [
        "Теперь работаем с сигналами экг. Датасет содержит 10 секундные и 7 секундные записи. Если запись имеет длительность 7 секунд, то она дополнена в начале и в конце 648 нулями. Возьмём от всех записей средние 7 секунд, т.е. от 648 до 3448 сигнала."
      ]
    },
    {
      "cell_type": "code",
      "execution_count": null,
      "metadata": {
        "id": "Wm2x7p9Mzw2C"
      },
      "outputs": [],
      "source": [
        "loaded_data = np.load('/content/drive/MyDrive/data0.npy')"
      ]
    },
    {
      "cell_type": "code",
      "execution_count": null,
      "metadata": {
        "id": "R-of3sWw3k2C"
      },
      "outputs": [],
      "source": [
        "def spectrogram_dataset(dataset, results):\n",
        "  spec_signals = []\n",
        "  spec_results = []\n",
        "  count = 0\n",
        "  for i in range (0, results.shape[0]):\n",
        "    if sum(results[i]) == 0 and count < 3000:\n",
        "      count+=1\n",
        "      mas = []\n",
        "      for lead in range (0,12):\n",
        "        mas.append(np.array(dataset[i,:,lead]))\n",
        "      mas1 = np.concatenate([mas[0][..., np.newaxis],mas[1][..., np.newaxis],mas[2][..., np.newaxis]\n",
        "                           ,mas[3][..., np.newaxis],mas[4][..., np.newaxis],mas[5][..., np.newaxis],mas[6][..., np.newaxis],\n",
        "                           mas[7][..., np.newaxis],mas[8][..., np.newaxis],mas[9][..., np.newaxis],mas[10][..., np.newaxis],\n",
        "                           mas[11][..., np.newaxis]], axis = -1)\n",
        "      spec_signals.append(mas1)\n",
        "      spec_results.append(results[i])\n",
        "\n",
        "    if sum(results[i]) > 0 and count:\n",
        "      mas = []\n",
        "      for lead in range (0,12):\n",
        "        mas.append(np.array(dataset[i,:,lead]))\n",
        "\n",
        "      mas1 = np.concatenate([mas[0][..., np.newaxis],mas[1][..., np.newaxis],mas[2][..., np.newaxis]\n",
        "                           ,mas[3][..., np.newaxis],mas[4][..., np.newaxis],mas[5][..., np.newaxis],mas[6][..., np.newaxis],\n",
        "                           mas[7][..., np.newaxis],mas[8][..., np.newaxis],mas[9][..., np.newaxis],mas[10][..., np.newaxis],\n",
        "                           mas[11][..., np.newaxis]], axis = -1)\n",
        "      spec_signals.append(mas1)\n",
        "      spec_results.append(results[i])\n",
        "  return np.array(spec_signals), np.array(spec_results)"
      ]
    },
    {
      "cell_type": "code",
      "execution_count": null,
      "metadata": {
        "id": "Re2aPC3ysQeZ"
      },
      "outputs": [],
      "source": [
        "train_data, train_res = spectrogram_dataset(signals5,results[100000:118000])"
      ]
    },
    {
      "cell_type": "code",
      "execution_count": null,
      "metadata": {
        "id": "tyK987LbuxGW"
      },
      "outputs": [],
      "source": [
        "train_data1, train_res1 = spectrogram_dataset(signals2,results[40000:50000])"
      ]
    },
    {
      "cell_type": "code",
      "execution_count": null,
      "metadata": {
        "id": "II1LLS1nvzNq"
      },
      "outputs": [],
      "source": [
        "train_data = np.vstack([train_data, train_data1])\n",
        "train_res = np.vstack([train_res, train_res1])"
      ]
    },
    {
      "cell_type": "code",
      "execution_count": null,
      "metadata": {
        "id": "9MabBHNo3aWG"
      },
      "outputs": [],
      "source": [
        "train_data = np.vstack([signals2, signals5])\n",
        "train_res = np.vstack([train_res, train_res1])"
      ]
    },
    {
      "cell_type": "code",
      "execution_count": null,
      "metadata": {
        "id": "bVwu9Q4y4RvO"
      },
      "outputs": [],
      "source": [
        "def CNN():\n",
        "    inputs = tf.keras.Input(shape=(129, 20, 12))\n",
        "    x = tf.keras.layers.Conv2D(64, kernel_size=5, padding='same',activation = 'relu')(inputs)\n",
        "    x = tf.keras.layers.BatchNormalization()(x)\n",
        "    x = tf.keras.layers.MaxPooling2D(pool_size=(2, 2), strides=(2, 2))(x)\n",
        "\n",
        "    x = tf.keras.layers.Conv2D(96, kernel_size=5, padding='same',activation = 'relu')(x)\n",
        "    x = tf.keras.layers.BatchNormalization()(x)\n",
        "    x = tf.keras.layers.MaxPooling2D(pool_size=(2, 2), strides=(2, 2))(x)\n",
        "\n",
        "    x = tf.keras.layers.Conv2D(128, kernel_size=5, padding='same',activation = 'relu')(x)\n",
        "    x = tf.keras.layers.BatchNormalization()(x)\n",
        "    x = tf.keras.layers.MaxPooling2D(pool_size=(2, 2), strides=(2, 2))(x)\n",
        "\n",
        "    x = tf.keras.layers.Conv2D(160, kernel_size=5, padding='same',activation = 'relu')(x)\n",
        "    x = tf.keras.layers.BatchNormalization()(x)\n",
        "    x = tf.keras.layers.MaxPooling2D(pool_size=(2, 2), strides=(2, 2))(x)\n",
        "\n",
        "    x = tf.keras.layers.Flatten()(x)\n",
        "    x = tf.keras.layers.Dense(256, activation='relu')(x)\n",
        "    outputs = tf.keras.layers.Dense(6, activation='sigmoid')(x)\n",
        "\n",
        "    return tf.keras.Model(inputs, outputs)"
      ]
    },
    {
      "cell_type": "code",
      "execution_count": null,
      "metadata": {
        "id": "P4UTUTgE42yQ"
      },
      "outputs": [],
      "source": [
        "model = CNN()"
      ]
    },
    {
      "cell_type": "code",
      "execution_count": null,
      "metadata": {
        "colab": {
          "base_uri": "https://localhost:8080/"
        },
        "id": "3p8RkeBW5HsP",
        "outputId": "b1cf1b3f-d504-41ae-c602-9768ecf5844a"
      },
      "outputs": [
        {
          "name": "stdout",
          "output_type": "stream",
          "text": [
            "Model: \"model\"\n",
            "_________________________________________________________________\n",
            " Layer (type)                Output Shape              Param #   \n",
            "=================================================================\n",
            " input_1 (InputLayer)        [(None, 129, 20, 12)]     0         \n",
            "                                                                 \n",
            " conv2d (Conv2D)             (None, 129, 20, 64)       19264     \n",
            "                                                                 \n",
            " batch_normalization (Batch  (None, 129, 20, 64)       256       \n",
            " Normalization)                                                  \n",
            "                                                                 \n",
            " max_pooling2d (MaxPooling2  (None, 64, 10, 64)        0         \n",
            " D)                                                              \n",
            "                                                                 \n",
            " conv2d_1 (Conv2D)           (None, 64, 10, 96)        153696    \n",
            "                                                                 \n",
            " batch_normalization_1 (Bat  (None, 64, 10, 96)        384       \n",
            " chNormalization)                                                \n",
            "                                                                 \n",
            " max_pooling2d_1 (MaxPoolin  (None, 32, 5, 96)         0         \n",
            " g2D)                                                            \n",
            "                                                                 \n",
            " conv2d_2 (Conv2D)           (None, 32, 5, 128)        307328    \n",
            "                                                                 \n",
            " batch_normalization_2 (Bat  (None, 32, 5, 128)        512       \n",
            " chNormalization)                                                \n",
            "                                                                 \n",
            " max_pooling2d_2 (MaxPoolin  (None, 16, 2, 128)        0         \n",
            " g2D)                                                            \n",
            "                                                                 \n",
            " conv2d_3 (Conv2D)           (None, 16, 2, 160)        512160    \n",
            "                                                                 \n",
            " batch_normalization_3 (Bat  (None, 16, 2, 160)        640       \n",
            " chNormalization)                                                \n",
            "                                                                 \n",
            " max_pooling2d_3 (MaxPoolin  (None, 8, 1, 160)         0         \n",
            " g2D)                                                            \n",
            "                                                                 \n",
            " flatten (Flatten)           (None, 1280)              0         \n",
            "                                                                 \n",
            " dense (Dense)               (None, 256)               327936    \n",
            "                                                                 \n",
            " dense_1 (Dense)             (None, 6)                 1542      \n",
            "                                                                 \n",
            "=================================================================\n",
            "Total params: 1323718 (5.05 MB)\n",
            "Trainable params: 1322822 (5.05 MB)\n",
            "Non-trainable params: 896 (3.50 KB)\n",
            "_________________________________________________________________\n"
          ]
        }
      ],
      "source": [
        "model.summary()"
      ]
    },
    {
      "cell_type": "code",
      "execution_count": null,
      "metadata": {
        "colab": {
          "background_save": true,
          "base_uri": "https://localhost:8080/"
        },
        "id": "3E1QddUEF8Li",
        "outputId": "ca3b0d6a-342e-4983-f6b2-a6ed8553dbb9"
      },
      "outputs": [
        {
          "name": "stdout",
          "output_type": "stream",
          "text": [
            "Epoch 1/20\n",
            "450/450 [==============================] - 491s 1s/step - loss: 0.0515 - accuracy: 0.7265 - precision: 0.6636 - recall: 0.2919 - f1_score: 0.3546 - val_loss: 0.0535 - val_accuracy: 0.7436 - val_precision: 0.7333 - val_recall: 0.1313 - val_f1_score: 0.3775\n",
            "Epoch 2/20\n",
            "450/450 [==============================] - 489s 1s/step - loss: 0.0478 - accuracy: 0.7431 - precision: 0.6876 - recall: 0.3410 - f1_score: 0.3754 - val_loss: 0.0590 - val_accuracy: 0.8678 - val_precision: 0.8182 - val_recall: 0.1074 - val_f1_score: 0.4135\n",
            "Epoch 3/20\n",
            "450/450 [==============================] - 481s 1s/step - loss: 0.0454 - accuracy: 0.7477 - precision: 0.6989 - recall: 0.3514 - f1_score: 0.3825 - val_loss: 0.0475 - val_accuracy: 0.6564 - val_precision: 0.6448 - val_recall: 0.2816 - val_f1_score: 0.3550\n",
            "Epoch 4/20\n",
            "450/450 [==============================] - 485s 1s/step - loss: 0.0430 - accuracy: 0.7732 - precision: 0.7084 - recall: 0.3960 - f1_score: 0.3965 - val_loss: 0.0750 - val_accuracy: 0.1767 - val_precision: 0.4022 - val_recall: 0.4368 - val_f1_score: 0.2233\n",
            "Epoch 5/20\n",
            "450/450 [==============================] - 483s 1s/step - loss: 0.0414 - accuracy: 0.7688 - precision: 0.7269 - recall: 0.4416 - f1_score: 0.3989 - val_loss: 0.0498 - val_accuracy: 0.8436 - val_precision: 0.6667 - val_recall: 0.2768 - val_f1_score: 0.4278\n",
            "Epoch 6/20\n",
            "450/450 [==============================] - 474s 1s/step - loss: 0.0396 - accuracy: 0.7982 - precision: 0.7228 - recall: 0.4566 - f1_score: 0.4193 - val_loss: 0.0526 - val_accuracy: 0.8311 - val_precision: 0.6091 - val_recall: 0.3198 - val_f1_score: 0.3955\n",
            "Epoch 7/20\n",
            "450/450 [==============================] - 473s 1s/step - loss: 0.0378 - accuracy: 0.7999 - precision: 0.7389 - recall: 0.4827 - f1_score: 0.4226 - val_loss: 0.0639 - val_accuracy: 0.4083 - val_precision: 0.4278 - val_recall: 0.4033 - val_f1_score: 0.3090\n",
            "Epoch 8/20\n",
            "450/450 [==============================] - 473s 1s/step - loss: 0.0359 - accuracy: 0.8185 - precision: 0.7538 - recall: 0.5116 - f1_score: 0.4364 - val_loss: 0.0562 - val_accuracy: 0.7256 - val_precision: 0.5629 - val_recall: 0.3842 - val_f1_score: 0.3372\n",
            "Epoch 9/20\n",
            "450/450 [==============================] - 476s 1s/step - loss: 0.0330 - accuracy: 0.7905 - precision: 0.7752 - recall: 0.5503 - f1_score: 0.4204 - val_loss: 0.2429 - val_accuracy: 0.7517 - val_precision: 1.0000 - val_recall: 0.0095 - val_f1_score: 0.3164\n",
            "Epoch 10/20\n",
            "450/450 [==============================] - 467s 1s/step - loss: 0.0311 - accuracy: 0.8258 - precision: 0.7720 - recall: 0.5792 - f1_score: 0.4570 - val_loss: 0.1874 - val_accuracy: 0.8328 - val_precision: 0.6364 - val_recall: 0.0167 - val_f1_score: 0.3600\n",
            "Epoch 11/20\n",
            "450/450 [==============================] - 478s 1s/step - loss: 0.0284 - accuracy: 0.8183 - precision: 0.7955 - recall: 0.6185 - f1_score: 0.4552 - val_loss: 0.0609 - val_accuracy: 0.7589 - val_precision: 0.5822 - val_recall: 0.2959 - val_f1_score: 0.3637\n",
            "Epoch 12/20\n",
            "131/450 [=======>......................] - ETA: 5:06 - loss: 0.0246 - accuracy: 0.8144 - precision: 0.8179 - recall: 0.6457 - f1_score: 0.4447"
          ]
        }
      ],
      "source": [
        "history = model.fit(train_data, train_results,\n",
        "    epochs=20, batch_size=32, validation_split=0.2)"
      ]
    },
    {
      "cell_type": "code",
      "execution_count": null,
      "metadata": {
        "colab": {
          "base_uri": "https://localhost:8080/"
        },
        "id": "Iw--Udsa5VWX",
        "outputId": "07e330f3-adfa-4dac-e01f-f7e5817d73c2"
      },
      "outputs": [
        {
          "name": "stdout",
          "output_type": "stream",
          "text": [
            "Epoch 1/20\n",
            "450/450 [==============================] - 482s 1s/step - loss: 0.0863 - accuracy: 0.2714 - precision: 0.2537 - recall: 0.0296 - f1_score: 0.1167 - val_loss: 0.0950 - val_accuracy: 0.8089 - val_precision: 0.5000 - val_recall: 0.0022 - val_f1_score: 0.1648\n",
            "Epoch 2/20\n",
            "450/450 [==============================] - 480s 1s/step - loss: 0.0691 - accuracy: 0.4078 - precision: 0.5308 - recall: 0.1051 - f1_score: 0.2228 - val_loss: 0.0851 - val_accuracy: 0.1919 - val_precision: 0.5897 - val_recall: 0.0509 - val_f1_score: 0.2580\n",
            "Epoch 3/20\n",
            "450/450 [==============================] - 467s 1s/step - loss: 0.0650 - accuracy: 0.5042 - precision: 0.5322 - recall: 0.1249 - f1_score: 0.2531 - val_loss: 0.1406 - val_accuracy: 0.1264 - val_precision: 0.1233 - val_recall: 0.1173 - val_f1_score: 0.0843\n",
            "Epoch 4/20\n",
            "450/450 [==============================] - 476s 1s/step - loss: 0.0611 - accuracy: 0.5642 - precision: 0.5884 - recall: 0.1411 - f1_score: 0.2783 - val_loss: 0.0651 - val_accuracy: 0.8003 - val_precision: 0.6184 - val_recall: 0.1040 - val_f1_score: 0.3328\n",
            "Epoch 5/20\n",
            "450/450 [==============================] - 479s 1s/step - loss: 0.0589 - accuracy: 0.5793 - precision: 0.5959 - recall: 0.1841 - f1_score: 0.3036 - val_loss: 0.0778 - val_accuracy: 0.0819 - val_precision: 0.5344 - val_recall: 0.2920 - val_f1_score: 0.2418\n",
            "Epoch 6/20\n",
            "450/450 [==============================] - 481s 1s/step - loss: 0.0564 - accuracy: 0.6103 - precision: 0.6178 - recall: 0.2178 - f1_score: 0.3200 - val_loss: 0.0815 - val_accuracy: 0.6686 - val_precision: 0.3910 - val_recall: 0.1150 - val_f1_score: 0.2091\n",
            "Epoch 7/20\n",
            "450/450 [==============================] - 484s 1s/step - loss: 0.0545 - accuracy: 0.6428 - precision: 0.6410 - recall: 0.2561 - f1_score: 0.3325 - val_loss: 0.0938 - val_accuracy: 0.3203 - val_precision: 0.5172 - val_recall: 0.0996 - val_f1_score: 0.1562\n",
            "Epoch 8/20\n",
            "450/450 [==============================] - 484s 1s/step - loss: 0.0531 - accuracy: 0.6462 - precision: 0.6677 - recall: 0.2567 - f1_score: 0.3417 - val_loss: 0.0619 - val_accuracy: 0.3028 - val_precision: 0.6715 - val_recall: 0.2035 - val_f1_score: 0.3524\n",
            "Epoch 9/20\n",
            "450/450 [==============================] - 478s 1s/step - loss: 0.0521 - accuracy: 0.6837 - precision: 0.6685 - recall: 0.2753 - f1_score: 0.3610 - val_loss: 0.0721 - val_accuracy: 0.3208 - val_precision: 0.6351 - val_recall: 0.1040 - val_f1_score: 0.2496\n",
            "Epoch 10/20\n",
            "450/450 [==============================] - 493s 1s/step - loss: 0.0521 - accuracy: 0.6571 - precision: 0.6975 - recall: 0.2799 - f1_score: 0.3502 - val_loss: 0.1575 - val_accuracy: 0.8267 - val_precision: 0.0000e+00 - val_recall: 0.0000e+00 - val_f1_score: 0.2880\n",
            "Epoch 11/20\n",
            "450/450 [==============================] - 504s 1s/step - loss: 0.0503 - accuracy: 0.6963 - precision: 0.6806 - recall: 0.2921 - f1_score: 0.3765 - val_loss: 0.0746 - val_accuracy: 0.8486 - val_precision: 0.8333 - val_recall: 0.0774 - val_f1_score: 0.3738\n",
            "Epoch 12/20\n",
            "450/450 [==============================] - 482s 1s/step - loss: 0.0493 - accuracy: 0.7098 - precision: 0.7030 - recall: 0.3037 - f1_score: 0.3733 - val_loss: 0.0589 - val_accuracy: 0.8044 - val_precision: 0.5406 - val_recall: 0.3385 - val_f1_score: 0.3895\n",
            "Epoch 13/20\n",
            "450/450 [==============================] - 490s 1s/step - loss: 0.0483 - accuracy: 0.7048 - precision: 0.7018 - recall: 0.3362 - f1_score: 0.3855 - val_loss: 0.0687 - val_accuracy: 0.4869 - val_precision: 0.6500 - val_recall: 0.1150 - val_f1_score: 0.3041\n",
            "Epoch 14/20\n",
            "450/450 [==============================] - 485s 1s/step - loss: 0.0469 - accuracy: 0.7315 - precision: 0.6989 - recall: 0.3357 - f1_score: 0.3949 - val_loss: 0.0664 - val_accuracy: 0.1889 - val_precision: 0.5957 - val_recall: 0.3097 - val_f1_score: 0.3489\n",
            "Epoch 15/20\n",
            "450/450 [==============================] - 486s 1s/step - loss: 0.0461 - accuracy: 0.7201 - precision: 0.6997 - recall: 0.3531 - f1_score: 0.3895 - val_loss: 0.0551 - val_accuracy: 0.7578 - val_precision: 0.6517 - val_recall: 0.2898 - val_f1_score: 0.3906\n",
            "Epoch 16/20\n",
            "450/450 [==============================] - 484s 1s/step - loss: 0.0451 - accuracy: 0.7543 - precision: 0.7132 - recall: 0.3769 - f1_score: 0.4123 - val_loss: 0.0593 - val_accuracy: 0.6150 - val_precision: 0.5097 - val_recall: 0.3496 - val_f1_score: 0.3353\n",
            "Epoch 17/20\n",
            "450/450 [==============================] - 486s 1s/step - loss: 0.0448 - accuracy: 0.7535 - precision: 0.7053 - recall: 0.3711 - f1_score: 0.4089 - val_loss: 0.0597 - val_accuracy: 0.4097 - val_precision: 0.6554 - val_recall: 0.2566 - val_f1_score: 0.3512\n",
            "Epoch 18/20\n",
            "450/450 [==============================] - 497s 1s/step - loss: 0.0428 - accuracy: 0.7657 - precision: 0.7300 - recall: 0.3972 - f1_score: 0.4102 - val_loss: 0.1226 - val_accuracy: 0.8536 - val_precision: 0.5789 - val_recall: 0.0487 - val_f1_score: 0.3073\n",
            "Epoch 19/20\n",
            "450/450 [==============================] - 498s 1s/step - loss: 0.0415 - accuracy: 0.7945 - precision: 0.7252 - recall: 0.4152 - f1_score: 0.4308 - val_loss: 0.0829 - val_accuracy: 0.4092 - val_precision: 0.3055 - val_recall: 0.3805 - val_f1_score: 0.3437\n",
            "Epoch 20/20\n",
            "450/450 [==============================] - 484s 1s/step - loss: 0.0411 - accuracy: 0.7904 - precision: 0.7173 - recall: 0.4332 - f1_score: 0.4298 - val_loss: 0.0668 - val_accuracy: 0.5861 - val_precision: 0.4276 - val_recall: 0.3982 - val_f1_score: 0.3241\n"
          ]
        }
      ],
      "source": [
        "model.compile(\n",
        "    optimizer='adam',\n",
        "              loss='binary_crossentropy',\n",
        "              metrics=['accuracy', tf.keras.metrics.Precision(), tf.keras.metrics.Recall(), tf.keras.metrics.F1Score()]\n",
        ")\n",
        "\n",
        "EPOCHS = 20\n",
        "history = model.fit(train_data, train_results,\n",
        "    epochs=20, batch_size=32, validation_split=0.2)"
      ]
    },
    {
      "cell_type": "code",
      "execution_count": null,
      "metadata": {
        "colab": {
          "base_uri": "https://localhost:8080/"
        },
        "id": "GvV-vhZWm06p",
        "outputId": "b11daeb7-cf18-4558-8d39-eb1576a844d3"
      },
      "outputs": [
        {
          "name": "stderr",
          "output_type": "stream",
          "text": [
            "/usr/local/lib/python3.10/dist-packages/keras/src/engine/training.py:3103: UserWarning: You are saving your model as an HDF5 file via `model.save()`. This file format is considered legacy. We recommend using instead the native Keras format, e.g. `model.save('my_model.keras')`.\n",
            "  saving_api.save_model(\n"
          ]
        }
      ],
      "source": [
        "model.save( 'modelSpecCNN.h5' )"
      ]
    },
    {
      "cell_type": "code",
      "execution_count": null,
      "metadata": {
        "colab": {
          "base_uri": "https://localhost:8080/"
        },
        "id": "t2SMg1k-bymF",
        "outputId": "ec5cab25-f6bf-4e86-e9d8-87de85b1e18b"
      },
      "outputs": [
        {
          "name": "stdout",
          "output_type": "stream",
          "text": [
            "Epoch 1/10\n",
            "232/232 [==============================] - 450s 2s/step - loss: 0.2283 - accuracy: 0.2461 - precision: 0.3219 - recall: 0.0541 - f1_score: 0.1704 - val_loss: 0.3352 - val_accuracy: 0.6168 - val_precision: 0.9441 - val_recall: 0.1150 - val_f1_score: 0.5103\n",
            "Epoch 2/10\n",
            "232/232 [==============================] - 455s 2s/step - loss: 0.1489 - accuracy: 0.3400 - precision: 0.6190 - recall: 0.1432 - f1_score: 0.2730 - val_loss: 0.2850 - val_accuracy: 0.5773 - val_precision: 0.8674 - val_recall: 0.2049 - val_f1_score: 0.5314\n",
            "Epoch 3/10\n",
            "232/232 [==============================] - 453s 2s/step - loss: 0.1386 - accuracy: 0.4124 - precision: 0.6547 - recall: 0.2088 - f1_score: 0.3121 - val_loss: 0.2703 - val_accuracy: 0.6805 - val_precision: 0.8848 - val_recall: 0.1988 - val_f1_score: 0.6050\n",
            "Epoch 4/10\n",
            "232/232 [==============================] - 435s 2s/step - loss: 0.1275 - accuracy: 0.4835 - precision: 0.6771 - recall: 0.2591 - f1_score: 0.3467 - val_loss: 0.3054 - val_accuracy: 0.5935 - val_precision: 0.8635 - val_recall: 0.2886 - val_f1_score: 0.5803\n",
            "Epoch 5/10\n",
            "232/232 [==============================] - 453s 2s/step - loss: 0.1245 - accuracy: 0.5082 - precision: 0.6942 - recall: 0.2979 - f1_score: 0.3679 - val_loss: 0.2548 - val_accuracy: 0.6632 - val_precision: 0.8596 - val_recall: 0.3458 - val_f1_score: 0.5917\n",
            "Epoch 6/10\n",
            "232/232 [==============================] - 454s 2s/step - loss: 0.1162 - accuracy: 0.5583 - precision: 0.7000 - recall: 0.3218 - f1_score: 0.3838 - val_loss: 0.2576 - val_accuracy: 0.6508 - val_precision: 0.8996 - val_recall: 0.2866 - val_f1_score: 0.6034\n",
            "Epoch 7/10\n",
            "232/232 [==============================] - 453s 2s/step - loss: 0.1089 - accuracy: 0.5954 - precision: 0.7297 - recall: 0.3659 - f1_score: 0.4090 - val_loss: 0.2448 - val_accuracy: 0.7449 - val_precision: 0.9202 - val_recall: 0.3533 - val_f1_score: 0.6452\n",
            "Epoch 8/10\n",
            "232/232 [==============================] - 433s 2s/step - loss: 0.1066 - accuracy: 0.6061 - precision: 0.7434 - recall: 0.3774 - f1_score: 0.4145 - val_loss: 0.2502 - val_accuracy: 0.7351 - val_precision: 0.8911 - val_recall: 0.4180 - val_f1_score: 0.6120\n",
            "Epoch 9/10\n",
            "232/232 [==============================] - 437s 2s/step - loss: 0.1059 - accuracy: 0.6371 - precision: 0.7523 - recall: 0.3855 - f1_score: 0.4359 - val_loss: 0.2385 - val_accuracy: 0.7281 - val_precision: 0.8747 - val_recall: 0.4704 - val_f1_score: 0.6245\n",
            "Epoch 10/10\n",
            "232/232 [==============================] - 452s 2s/step - loss: 0.0994 - accuracy: 0.6438 - precision: 0.7504 - recall: 0.4262 - f1_score: 0.4454 - val_loss: 0.2850 - val_accuracy: 0.7308 - val_precision: 0.9581 - val_recall: 0.2805 - val_f1_score: 0.6443\n"
          ]
        }
      ],
      "source": [
        "model.compile(\n",
        "    optimizer='adam',\n",
        "              loss='binary_crossentropy',\n",
        "              metrics=['accuracy', tf.keras.metrics.Precision(), tf.keras.metrics.Recall(), tf.keras.metrics.F1Score()]\n",
        ")\n",
        "\n",
        "EPOCHS = 10\n",
        "history = model.fit(train_sig, train_res,\n",
        "    epochs=10, batch_size=32, validation_split=0.2\n",
        ")"
      ]
    },
    {
      "cell_type": "code",
      "execution_count": null,
      "metadata": {
        "colab": {
          "base_uri": "https://localhost:8080/",
          "height": 482
        },
        "id": "mZWrWmJegWvf",
        "outputId": "9d51c40d-bb1b-497e-b6a0-cc722fd5e29b"
      },
      "outputs": [
        {
          "data": {
            "text/plain": [
              "Text(0, 0.5, 'Accuracy')"
            ]
          },
          "execution_count": 24,
          "metadata": {},
          "output_type": "execute_result"
        },
        {
          "data": {
            "image/png": "[encoded data removed]",
            "text/plain": [
              "<Figure size 1000x500 with 2 Axes>"
            ]
          },
          "metadata": {},
          "output_type": "display_data"
        }
      ],
      "source": [
        "metrics = history.history\n",
        "plt.figure(figsize=(10, 5))\n",
        "\n",
        "# Plotting training and validation loss\n",
        "plt.subplot(1, 2, 1)\n",
        "plt.plot(history.epoch, metrics['loss'], metrics['val_loss'])\n",
        "plt.legend(['loss', 'val_loss'])\n",
        "plt.xlabel('Epoch')\n",
        "plt.ylabel('Loss')\n",
        "\n",
        "# Plotting training and validation accuracy\n",
        "plt.subplot(1, 2, 2)\n",
        "plt.plot(history.epoch, metrics['accuracy'], metrics['val_accuracy'])\n",
        "plt.legend(['accuracy', 'val_accuracy'])\n",
        "plt.xlabel('Epoch')\n",
        "plt.ylabel('Accuracy')"
      ]
    },
    {
      "cell_type": "code",
      "execution_count": null,
      "metadata": {
        "colab": {
          "base_uri": "https://localhost:8080/"
        },
        "id": "duEcvOfeiRUb",
        "outputId": "27d03ad7-afd3-4acd-8d46-d67472ce8522"
      },
      "outputs": [
        {
          "name": "stdout",
          "output_type": "stream",
          "text": [
            "16/16 [==============================] - 7s 398ms/step\n"
          ]
        }
      ],
      "source": [
        "res = model.predict(test_sig)"
      ]
    },
    {
      "cell_type": "code",
      "execution_count": null,
      "metadata": {
        "colab": {
          "base_uri": "https://localhost:8080/"
        },
        "id": "AGpKgvnyijBV",
        "outputId": "66cb67d6-79cd-4124-ef98-fefe043d25b4"
      },
      "outputs": [
        {
          "name": "stdout",
          "output_type": "stream",
          "text": [
            "[[11.9  0.1  1.3  4.6  0.   1.6]\n",
            " [ 1.7  0.4  0.   0.2  0.   0.1]\n",
            " [ 5.3 10.6  0.2  0.4  0.   4.6]\n",
            " [ 2.8  1.5  0.9  0.   7.5 37.3]\n",
            " [ 0.1  0.   0.   0.   0.   0. ]\n",
            " [13.1  3.8  0.2  1.5  0.1  2.7]\n",
            " [ 1.6  0.2  0.   0.1  0.   0.3]\n",
            " [ 7.5  0.   0.   7.6  0.   0.1]\n",
            " [ 2.9  0.   0.   0.   0.   0.1]\n",
            " [ 1.3 99.2  0.   0.   0.   0.4]\n",
            " [ 4.6  0.3  0.1  0.   0.1  2.7]\n",
            " [ 4.5  0.   0.   0.   0.   0.1]]\n"
          ]
        }
      ],
      "source": [
        "print(np.round(res[58:70]*100, decimals=1))"
      ]
    },
    {
      "cell_type": "code",
      "execution_count": null,
      "metadata": {
        "colab": {
          "base_uri": "https://localhost:8080/"
        },
        "id": "j1r3vQrFilPj",
        "outputId": "1a8467c7-7233-4eef-bd71-a1f00a670600"
      },
      "outputs": [
        {
          "name": "stdout",
          "output_type": "stream",
          "text": [
            "[[0. 0. 0. 1. 0. 0.]\n",
            " [0. 0. 0. 0. 0. 0.]\n",
            " [0. 0. 0. 0. 0. 0.]\n",
            " [0. 0. 0. 0. 0. 1.]\n",
            " [0. 0. 0. 0. 0. 0.]\n",
            " [0. 0. 0. 0. 0. 0.]\n",
            " [0. 0. 0. 0. 0. 0.]\n",
            " [0. 0. 0. 0. 0. 0.]\n",
            " [0. 0. 0. 0. 0. 0.]\n",
            " [0. 1. 0. 0. 0. 0.]\n",
            " [0. 0. 0. 0. 0. 0.]\n",
            " [0. 0. 0. 0. 0. 0.]]\n"
          ]
        }
      ],
      "source": [
        "print(test_res[58:70])"
      ]
    },
    {
      "cell_type": "code",
      "execution_count": null,
      "metadata": {
        "id": "X9duvRmJkWSR"
      },
      "outputs": [],
      "source": [
        "for i in range(0,res.shape[0]):\n",
        "  for j in range(0,res.shape[1]):\n",
        "    if res[i,j] > 0.5:\n",
        "      res[i,j] = 1\n",
        "    else:\n",
        "      res[i,j] = 0"
      ]
    },
    {
      "cell_type": "code",
      "execution_count": null,
      "metadata": {
        "colab": {
          "base_uri": "https://localhost:8080/"
        },
        "id": "Kxxt6vQwkyL-",
        "outputId": "17a23a30-8cec-4a7f-b867-19ec2f9b6eb2"
      },
      "outputs": [
        {
          "name": "stdout",
          "output_type": "stream",
          "text": [
            "[[0. 0. 0. 0. 0. 0.]\n",
            " [0. 0. 0. 0. 0. 0.]\n",
            " [0. 0. 0. 0. 0. 0.]\n",
            " [0. 0. 0. 0. 0. 0.]\n",
            " [0. 0. 0. 0. 0. 0.]\n",
            " [0. 0. 0. 0. 0. 0.]\n",
            " [0. 0. 0. 0. 0. 0.]\n",
            " [0. 0. 0. 0. 0. 0.]\n",
            " [0. 0. 0. 0. 0. 0.]\n",
            " [0. 1. 0. 0. 0. 0.]\n",
            " [0. 0. 0. 0. 0. 0.]\n",
            " [0. 0. 0. 0. 0. 0.]]\n"
          ]
        }
      ],
      "source": [
        "print(res[58:70])"
      ]
    },
    {
      "cell_type": "code",
      "execution_count": null,
      "metadata": {
        "id": "ZOPu6kyPnX9r"
      },
      "outputs": [],
      "source": [
        "model.save_weights('model12_weights.h5')"
      ]
    }
  ],
  "metadata": {
    "colab": {
      "provenance": []
    },
    "kernelspec": {
      "display_name": "Python 3",
      "name": "python3"
    },
    "language_info": {
      "name": "python"
    }
  },
  "nbformat": 4,
  "nbformat_minor": 0
}