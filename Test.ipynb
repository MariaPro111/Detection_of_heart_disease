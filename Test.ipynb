{
  "nbformat": 4,
  "nbformat_minor": 0,
  "metadata": {
    "colab": {
      "provenance": []
    },
    "kernelspec": {
      "name": "python3",
      "display_name": "Python 3"
    },
    "language_info": {
      "name": "python"
    }
  },
  "cells": [
    {
      "cell_type": "code",
      "execution_count": 1,
      "metadata": {
        "id": "I1b09nSpyYlP"
      },
      "outputs": [],
      "source": [
        "import pandas as pd\n",
        "import h5py\n",
        "import numpy as np\n",
        "import matplotlib.pyplot as plt\n",
        "import tensorflow as tf\n",
        "from sklearn.metrics import classification_report\n",
        "from sklearn.metrics import accuracy_score\n",
        "from sklearn. metrics import f1_score\n",
        "from sklearn.metrics import precision_score, recall_score"
      ]
    },
    {
      "cell_type": "code",
      "source": [
        "from google.colab import drive\n",
        "drive.mount('/content/drive')"
      ],
      "metadata": {
        "colab": {
          "base_uri": "https://localhost:8080/"
        },
        "id": "oOwFw33fyoOh",
        "outputId": "3073c55f-0076-4efc-f243-750e2afc58f4"
      },
      "execution_count": 2,
      "outputs": [
        {
          "output_type": "stream",
          "name": "stdout",
          "text": [
            "Mounted at /content/drive\n"
          ]
        }
      ]
    },
    {
      "cell_type": "code",
      "source": [
        "data3 = np.load('/content/drive/MyDrive/data3.npy')\n",
        "result3 = np.load('/content/drive/MyDrive/results3.npy')"
      ],
      "metadata": {
        "id": "KaMQ69T4yuuS"
      },
      "execution_count": 3,
      "outputs": []
    },
    {
      "cell_type": "code",
      "source": [
        "model = tf.keras.models.load_model('/content/drive/MyDrive/modelSpecCNN.h5')                                #Загружаем веса первой модели"
      ],
      "metadata": {
        "id": "62JELBKDWjjb"
      },
      "execution_count": 19,
      "outputs": []
    },
    {
      "cell_type": "code",
      "source": [
        "model14 = tf.keras.models.load_model('/content/drive/MyDrive/modelSpecCNN-4.h5')                            #Загружаем веса второй модели"
      ],
      "metadata": {
        "id": "qXJI2AxW6zvT"
      },
      "execution_count": 14,
      "outputs": []
    },
    {
      "cell_type": "code",
      "source": [
        "res = model.predict(data3[0:5000])"
      ],
      "metadata": {
        "colab": {
          "base_uri": "https://localhost:8080/"
        },
        "id": "rTJhYr7nCMmW",
        "outputId": "e5943264-dfbe-4ed1-f53b-a31b1b73640a"
      },
      "execution_count": 20,
      "outputs": [
        {
          "output_type": "stream",
          "name": "stdout",
          "text": [
            "157/157 [==============================] - 43s 274ms/step\n"
          ]
        }
      ]
    },
    {
      "cell_type": "code",
      "source": [
        "res14 = model14.predict(data3[0:5000])"
      ],
      "metadata": {
        "colab": {
          "base_uri": "https://localhost:8080/"
        },
        "id": "3DFmPdgm69AZ",
        "outputId": "f0943639-ac6d-43dd-ca6d-079ff9f21777"
      },
      "execution_count": 15,
      "outputs": [
        {
          "output_type": "stream",
          "name": "stdout",
          "text": [
            "157/157 [==============================] - 48s 304ms/step\n"
          ]
        }
      ]
    },
    {
      "cell_type": "code",
      "source": [
        "res12 = give_predicts(res12)"
      ],
      "metadata": {
        "id": "mlTjgUmsCHhC"
      },
      "execution_count": 10,
      "outputs": []
    },
    {
      "cell_type": "code",
      "source": [
        "res = give_predicts(res)"
      ],
      "metadata": {
        "id": "Cp5QKkjwdYtQ"
      },
      "execution_count": null,
      "outputs": []
    },
    {
      "cell_type": "code",
      "source": [
        "def give_predicts(res):\n",
        "  for i in range(0,res.shape[0]):\n",
        "    for j in range(0,res.shape[1]):\n",
        "      if res[i,j] > 0.5:\n",
        "        res[i,j] = 1\n",
        "      else:\n",
        "        res[i,j] = 0\n",
        "  return res"
      ],
      "metadata": {
        "id": "BlOgtRb6zSHM"
      },
      "execution_count": 9,
      "outputs": []
    },
    {
      "cell_type": "code",
      "source": [
        "report = classification_report(result3[0:5000], res12)"
      ],
      "metadata": {
        "colab": {
          "base_uri": "https://localhost:8080/"
        },
        "id": "WBrH7Fm_X-ez",
        "outputId": "22e8b8d8-45ff-45b1-d4a7-7a22ee040b3e"
      },
      "execution_count": 12,
      "outputs": [
        {
          "output_type": "stream",
          "name": "stderr",
          "text": [
            "/usr/local/lib/python3.10/dist-packages/sklearn/metrics/_classification.py:1344: UndefinedMetricWarning: Precision and F-score are ill-defined and being set to 0.0 in samples with no predicted labels. Use `zero_division` parameter to control this behavior.\n",
            "  _warn_prf(average, modifier, msg_start, len(result))\n",
            "/usr/local/lib/python3.10/dist-packages/sklearn/metrics/_classification.py:1344: UndefinedMetricWarning: Recall and F-score are ill-defined and being set to 0.0 in samples with no true labels. Use `zero_division` parameter to control this behavior.\n",
            "  _warn_prf(average, modifier, msg_start, len(result))\n"
          ]
        }
      ]
    },
    {
      "cell_type": "markdown",
      "source": [
        "Отчёт первой модели"
      ],
      "metadata": {
        "id": "3_hKx1JvIH_G"
      }
    },
    {
      "cell_type": "code",
      "source": [
        "report2 = classification_report(result3[0:5000], res)\n",
        "print(report2)"
      ],
      "metadata": {
        "colab": {
          "base_uri": "https://localhost:8080/"
        },
        "id": "aX04COTqarVV",
        "outputId": "54a5d49d-8616-409f-a9d0-f4169e4fbd5e"
      },
      "execution_count": 22,
      "outputs": [
        {
          "output_type": "stream",
          "name": "stdout",
          "text": [
            "              precision    recall  f1-score   support\n",
            "\n",
            "           0       0.00      0.00      0.00        96\n",
            "           1       0.38      0.79      0.52       145\n",
            "           2       0.86      0.68      0.76        98\n",
            "           3       0.48      0.41      0.45        70\n",
            "           4       0.56      0.22      0.31       116\n",
            "           5       0.29      0.26      0.27        92\n",
            "\n",
            "   micro avg       0.46      0.42      0.44       617\n",
            "   macro avg       0.43      0.39      0.38       617\n",
            "weighted avg       0.43      0.42      0.39       617\n",
            " samples avg       0.05      0.05      0.05       617\n",
            "\n"
          ]
        },
        {
          "output_type": "stream",
          "name": "stderr",
          "text": [
            "/usr/local/lib/python3.10/dist-packages/sklearn/metrics/_classification.py:1344: UndefinedMetricWarning: Precision and F-score are ill-defined and being set to 0.0 in labels with no predicted samples. Use `zero_division` parameter to control this behavior.\n",
            "  _warn_prf(average, modifier, msg_start, len(result))\n",
            "/usr/local/lib/python3.10/dist-packages/sklearn/metrics/_classification.py:1344: UndefinedMetricWarning: Precision and F-score are ill-defined and being set to 0.0 in samples with no predicted labels. Use `zero_division` parameter to control this behavior.\n",
            "  _warn_prf(average, modifier, msg_start, len(result))\n",
            "/usr/local/lib/python3.10/dist-packages/sklearn/metrics/_classification.py:1344: UndefinedMetricWarning: Recall and F-score are ill-defined and being set to 0.0 in samples with no true labels. Use `zero_division` parameter to control this behavior.\n",
            "  _warn_prf(average, modifier, msg_start, len(result))\n"
          ]
        }
      ]
    },
    {
      "cell_type": "markdown",
      "source": [
        "Отчёт второй модели"
      ],
      "metadata": {
        "id": "9ePU_FIkINMC"
      }
    },
    {
      "cell_type": "code",
      "source": [
        "print(report)"
      ],
      "metadata": {
        "colab": {
          "base_uri": "https://localhost:8080/"
        },
        "id": "LX0xLoTqYU8e",
        "outputId": "a050e443-a594-47d0-9369-2f0603213bd0"
      },
      "execution_count": 13,
      "outputs": [
        {
          "output_type": "stream",
          "name": "stdout",
          "text": [
            "              precision    recall  f1-score   support\n",
            "\n",
            "           0       0.62      0.76      0.69        96\n",
            "           1       0.98      0.87      0.92       145\n",
            "           2       0.94      1.00      0.97        98\n",
            "           3       0.86      0.73      0.79        70\n",
            "           4       0.56      0.80      0.66       116\n",
            "           5       0.98      0.59      0.73        92\n",
            "\n",
            "   micro avg       0.79      0.80      0.79       617\n",
            "   macro avg       0.83      0.79      0.79       617\n",
            "weighted avg       0.83      0.80      0.80       617\n",
            " samples avg       0.09      0.09      0.09       617\n",
            "\n"
          ]
        }
      ]
    }
  ]
}