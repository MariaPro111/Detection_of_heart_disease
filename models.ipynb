{
  "nbformat": 4,
  "nbformat_minor": 0,
  "metadata": {
    "colab": {
      "provenance": []
    },
    "kernelspec": {
      "name": "python3",
      "display_name": "Python 3"
    },
    "language_info": {
      "name": "python"
    }
  },
  "cells": [
    {
      "cell_type": "code",
      "execution_count": null,
      "metadata": {
        "id": "7T8BwIT3MSsh"
      },
      "outputs": [],
      "source": [
        "def CNN():\n",
        "    inputs = tf.keras.Input(shape=(129, 20, 12))\n",
        "    x = tf.keras.layers.Conv2D(64, kernel_size=5, padding='same',activation = 'relu')(inputs)\n",
        "    x = tf.keras.layers.BatchNormalization()(x)\n",
        "    x = tf.keras.layers.MaxPooling2D(pool_size=(2, 2), strides=(2, 2))(x)\n",
        "\n",
        "    x = tf.keras.layers.Conv2D(96, kernel_size=5, padding='same',activation = 'relu')(x)\n",
        "    x = tf.keras.layers.BatchNormalization()(x)\n",
        "    x = tf.keras.layers.MaxPooling2D(pool_size=(2, 2), strides=(2, 2))(x)\n",
        "\n",
        "    x = tf.keras.layers.Conv2D(128, kernel_size=5, padding='same',activation = 'relu')(x)\n",
        "    x = tf.keras.layers.BatchNormalization()(x)\n",
        "    x = tf.keras.layers.MaxPooling2D(pool_size=(2, 2), strides=(2, 2))(x)\n",
        "\n",
        "    x = tf.keras.layers.Conv2D(160, kernel_size=5, padding='same',activation = 'relu')(x)\n",
        "    x = tf.keras.layers.BatchNormalization()(x)\n",
        "    x = tf.keras.layers.MaxPooling2D(pool_size=(2, 2), strides=(2, 2))(x)\n",
        "\n",
        "    x = tf.keras.layers.Flatten()(x)\n",
        "    x = tf.keras.layers.Dense(256, activation='relu')(x)\n",
        "    outputs = tf.keras.layers.Dense(6, activation='sigmoid')(x)\n",
        "\n",
        "    return tf.keras.Model(inputs, outputs)"
      ]
    },
    {
      "cell_type": "code",
      "source": [
        "def CNN_with_dropout():\n",
        "    inputs = tf.keras.Input(shape=(20, 129, 12))\n",
        "    x = tf.keras.layers.Conv1D(64, kernel_size=3, padding='same',activation = 'relu')(inputs)\n",
        "    x = tf.keras.layers.BatchNormalization()(x)\n",
        "    x = tf.keras.layers.MaxPooling2D(pool_size=(2, 2), strides=(2, 2))(x)\n",
        "\n",
        "    x = tf.keras.layers.Conv2D(64, kernel_size=3, padding='same',activation = 'relu')(x)\n",
        "    x = tf.keras.layers.BatchNormalization()(x)\n",
        "    x = tf.keras.layers.MaxPooling2D(pool_size=(2, 2), strides=(2, 2))(x)\n",
        "\n",
        "    x = tf.keras.layers.Conv2D(128, kernel_size=3, padding='same',activation = 'relu')(x)\n",
        "    x = tf.keras.layers.BatchNormalization()(x)\n",
        "    x = tf.keras.layers.MaxPooling2D(pool_size=(2, 2), strides=(2, 2))(x)\n",
        "\n",
        "    x = tf.keras.layers.Conv2D(128, kernel_size=3, padding='same',activation = 'relu')(x)\n",
        "    x = tf.keras.layers.BatchNormalization()(x)\n",
        "    x = tf.keras.layers.MaxPooling2D(pool_size=(2, 2), strides=(2, 2))(x)\n",
        "\n",
        "\n",
        "    x = tf.keras.layers.Dropout(0.5)(x)\n",
        "\n",
        "    x = tf.keras.layers.Reshape((-1, 128))(x)\n",
        "    x = tf.keras.layers.LSTM(256,return_sequences=False)(x)\n",
        "\n",
        "    outputs = tf.keras.layers.Dense(6, activation='sigmoid')(x)\n",
        "\n",
        "    return tf.keras.Model(inputs, outputs)"
      ],
      "metadata": {
        "id": "AtU2Rc_3Mbaq"
      },
      "execution_count": null,
      "outputs": []
    },
    {
      "cell_type": "code",
      "source": [
        "model1 = tf.keras.Sequential([\n",
        "    tf.keras.layers.LSTM(64, input_shape=(4096, 12), return_sequences=True),\n",
        "    tf.keras.layers.LSTM(64),\n",
        "    tf.keras.layers.Dense(6, activation='sigmoid')\n",
        "])\n",
        "\n",
        "\n",
        "input_shape = (4096, 12)\n",
        "num_classes = 6\n",
        "model = create_lstm_model(input_shape, num_classes)\n",
        "\n",
        "model.compile(optimizer='adam', loss='categorical_crossentropy', metrics=['accuracy'])\n",
        "\n",
        "model.summary()"
      ],
      "metadata": {
        "id": "S16iEIvsM_cz"
      },
      "execution_count": null,
      "outputs": []
    }
  ]
}