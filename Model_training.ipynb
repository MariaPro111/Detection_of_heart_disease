{
  "cells": [
    {
      "cell_type": "code",
      "execution_count": null,
      "metadata": {
        "id": "eQN-PhrctLl9"
      },
      "outputs": [],
      "source": [
        "import pandas as pd\n",
        "import h5py\n",
        "import numpy as np\n",
        "import matplotlib.pyplot as plt\n",
        "import tensorflow as tf\n",
        "from scipy import signal"
      ]
    },
    {
      "cell_type": "markdown",
      "metadata": {
        "id": "RCUxiYXqUtv_"
      },
      "source": [
        "# Обучение модели CNN"
      ]
    },
    {
      "cell_type": "code",
      "execution_count": null,
      "metadata": {
        "id": "dDBML9ktt0F3",
        "colab": {
          "base_uri": "https://localhost:8080/"
        },
        "outputId": "6ff377d9-9e7d-4844-f4df-6ed238656199"
      },
      "outputs": [
        {
          "output_type": "stream",
          "name": "stdout",
          "text": [
            "Mounted at /content/drive\n"
          ]
        }
      ],
      "source": [
        "from google.colab import drive\n",
        "drive.mount('/content/drive')"
      ]
    },
    {
      "cell_type": "markdown",
      "source": [
        "Загружаем тренировочные данные."
      ],
      "metadata": {
        "id": "ZpbRodIX9ntT"
      }
    },
    {
      "cell_type": "code",
      "source": [
        "data2 = np.load('/content/drive/MyDrive/data2.npy')\n",
        "result2 = np.load('/content/drive/MyDrive/results2.npy')\n",
        "\n",
        "data5 = np.load('/content/drive/MyDrive/data5.npy')\n",
        "result5 = np.load('/content/drive/MyDrive/results5.npy')"
      ],
      "metadata": {
        "id": "RCynlydz9BI3"
      },
      "execution_count": null,
      "outputs": []
    },
    {
      "cell_type": "code",
      "source": [
        "train_data = np.vstack([data2[0:9000],data5[0:9000]])\n",
        "train_results = np.vstack([result2[0:9000], result5[0:9000]])"
      ],
      "metadata": {
        "id": "Sl4VV36Q9Xna"
      },
      "execution_count": null,
      "outputs": []
    },
    {
      "cell_type": "markdown",
      "source": [
        "Модель СNN"
      ],
      "metadata": {
        "id": "CCkPlW4W922Z"
      }
    },
    {
      "cell_type": "code",
      "execution_count": null,
      "metadata": {
        "id": "bVwu9Q4y4RvO"
      },
      "outputs": [],
      "source": [
        "def CNN():\n",
        "    inputs = tf.keras.Input(shape=(129, 20, 12))\n",
        "    x = tf.keras.layers.Conv2D(64, kernel_size=5, padding='same',activation = 'relu')(inputs)\n",
        "    x = tf.keras.layers.BatchNormalization()(x)\n",
        "    x = tf.keras.layers.MaxPooling2D(pool_size=(2, 2), strides=(2, 2))(x)\n",
        "\n",
        "    x = tf.keras.layers.Conv2D(96, kernel_size=5, padding='same',activation = 'relu')(x)\n",
        "    x = tf.keras.layers.BatchNormalization()(x)\n",
        "    x = tf.keras.layers.MaxPooling2D(pool_size=(2, 2), strides=(2, 2))(x)\n",
        "\n",
        "    x = tf.keras.layers.Conv2D(128, kernel_size=5, padding='same',activation = 'relu')(x)\n",
        "    x = tf.keras.layers.BatchNormalization()(x)\n",
        "    x = tf.keras.layers.MaxPooling2D(pool_size=(2, 2), strides=(2, 2))(x)\n",
        "\n",
        "    x = tf.keras.layers.Conv2D(160, kernel_size=5, padding='same',activation = 'relu')(x)\n",
        "    x = tf.keras.layers.BatchNormalization()(x)\n",
        "    x = tf.keras.layers.MaxPooling2D(pool_size=(2, 2), strides=(2, 2))(x)\n",
        "\n",
        "    x = tf.keras.layers.Flatten()(x)\n",
        "    x = tf.keras.layers.Dense(256, activation='relu')(x)\n",
        "    outputs = tf.keras.layers.Dense(6, activation='sigmoid')(x)\n",
        "\n",
        "    return tf.keras.Model(inputs, outputs)"
      ]
    },
    {
      "cell_type": "code",
      "execution_count": null,
      "metadata": {
        "colab": {
          "base_uri": "https://localhost:8080/"
        },
        "id": "3p8RkeBW5HsP",
        "outputId": "93f26480-6d4f-4c89-8c1e-06a7d88ddf45"
      },
      "outputs": [
        {
          "output_type": "stream",
          "name": "stdout",
          "text": [
            "Model: \"model\"\n",
            "_________________________________________________________________\n",
            " Layer (type)                Output Shape              Param #   \n",
            "=================================================================\n",
            " input_1 (InputLayer)        [(None, 129, 20, 12)]     0         \n",
            "                                                                 \n",
            " conv2d (Conv2D)             (None, 129, 20, 64)       19264     \n",
            "                                                                 \n",
            " batch_normalization (Batch  (None, 129, 20, 64)       256       \n",
            " Normalization)                                                  \n",
            "                                                                 \n",
            " max_pooling2d (MaxPooling2  (None, 64, 10, 64)        0         \n",
            " D)                                                              \n",
            "                                                                 \n",
            " conv2d_1 (Conv2D)           (None, 64, 10, 96)        153696    \n",
            "                                                                 \n",
            " batch_normalization_1 (Bat  (None, 64, 10, 96)        384       \n",
            " chNormalization)                                                \n",
            "                                                                 \n",
            " max_pooling2d_1 (MaxPoolin  (None, 32, 5, 96)         0         \n",
            " g2D)                                                            \n",
            "                                                                 \n",
            " conv2d_2 (Conv2D)           (None, 32, 5, 128)        307328    \n",
            "                                                                 \n",
            " batch_normalization_2 (Bat  (None, 32, 5, 128)        512       \n",
            " chNormalization)                                                \n",
            "                                                                 \n",
            " max_pooling2d_2 (MaxPoolin  (None, 16, 2, 128)        0         \n",
            " g2D)                                                            \n",
            "                                                                 \n",
            " conv2d_3 (Conv2D)           (None, 16, 2, 160)        512160    \n",
            "                                                                 \n",
            " batch_normalization_3 (Bat  (None, 16, 2, 160)        640       \n",
            " chNormalization)                                                \n",
            "                                                                 \n",
            " max_pooling2d_3 (MaxPoolin  (None, 8, 1, 160)         0         \n",
            " g2D)                                                            \n",
            "                                                                 \n",
            " flatten (Flatten)           (None, 1280)              0         \n",
            "                                                                 \n",
            " dense (Dense)               (None, 256)               327936    \n",
            "                                                                 \n",
            " dense_1 (Dense)             (None, 6)                 1542      \n",
            "                                                                 \n",
            "=================================================================\n",
            "Total params: 1323718 (5.05 MB)\n",
            "Trainable params: 1322822 (5.05 MB)\n",
            "Non-trainable params: 896 (3.50 KB)\n",
            "_________________________________________________________________\n"
          ]
        }
      ],
      "source": [
        "model = CNN()\n",
        "model.summary()"
      ]
    },
    {
      "cell_type": "markdown",
      "source": [
        "Компилируем и обучаем модель"
      ],
      "metadata": {
        "id": "4viA5ZH8-pRj"
      }
    },
    {
      "cell_type": "code",
      "execution_count": null,
      "metadata": {
        "colab": {
          "base_uri": "https://localhost:8080/"
        },
        "id": "Iw--Udsa5VWX",
        "outputId": "00542d1e-2630-40b9-b4e2-a7626ec982d9"
      },
      "outputs": [
        {
          "output_type": "stream",
          "name": "stdout",
          "text": [
            "Epoch 1/20\n",
            "450/450 [==============================] - 546s 1s/step - loss: 0.0867 - accuracy: 0.2850 - val_loss: 0.1830 - val_accuracy: 0.0247\n",
            "Epoch 2/20\n",
            "450/450 [==============================] - 537s 1s/step - loss: 0.0693 - accuracy: 0.4060 - val_loss: 0.1021 - val_accuracy: 0.0392\n",
            "Epoch 3/20\n",
            "450/450 [==============================] - 540s 1s/step - loss: 0.0662 - accuracy: 0.4598 - val_loss: 0.1442 - val_accuracy: 0.4453\n",
            "Epoch 4/20\n",
            "450/450 [==============================] - 537s 1s/step - loss: 0.0618 - accuracy: 0.5440 - val_loss: 0.3029 - val_accuracy: 0.3736\n",
            "Epoch 5/20\n",
            "450/450 [==============================] - 533s 1s/step - loss: 0.0607 - accuracy: 0.5722 - val_loss: 0.0828 - val_accuracy: 0.6128\n",
            "Epoch 6/20\n",
            "450/450 [==============================] - 532s 1s/step - loss: 0.0585 - accuracy: 0.6093 - val_loss: 0.0756 - val_accuracy: 0.8006\n",
            "Epoch 7/20\n",
            "450/450 [==============================] - 521s 1s/step - loss: 0.0566 - accuracy: 0.6732 - val_loss: 0.0820 - val_accuracy: 0.1514\n",
            "Epoch 8/20\n",
            "450/450 [==============================] - 531s 1s/step - loss: 0.0548 - accuracy: 0.6786 - val_loss: 0.0910 - val_accuracy: 0.6206\n",
            "Epoch 9/20\n",
            "450/450 [==============================] - 532s 1s/step - loss: 0.0523 - accuracy: 0.6921 - val_loss: 0.0721 - val_accuracy: 0.7731\n",
            "Epoch 10/20\n",
            "450/450 [==============================] - 523s 1s/step - loss: 0.0529 - accuracy: 0.6944 - val_loss: 0.0751 - val_accuracy: 0.7672\n",
            "Epoch 11/20\n",
            "450/450 [==============================] - 531s 1s/step - loss: 0.0505 - accuracy: 0.7112 - val_loss: 0.0733 - val_accuracy: 0.3564\n",
            "Epoch 12/20\n",
            "450/450 [==============================] - 531s 1s/step - loss: 0.0505 - accuracy: 0.7206 - val_loss: 0.1275 - val_accuracy: 0.8439\n",
            "Epoch 13/20\n",
            "450/450 [==============================] - 531s 1s/step - loss: 0.0493 - accuracy: 0.7056 - val_loss: 0.0637 - val_accuracy: 0.7094\n",
            "Epoch 14/20\n",
            "450/450 [==============================] - 531s 1s/step - loss: 0.0473 - accuracy: 0.7615 - val_loss: 0.0686 - val_accuracy: 0.8417\n",
            "Epoch 15/20\n",
            "450/450 [==============================] - 525s 1s/step - loss: 0.0469 - accuracy: 0.7385 - val_loss: 0.0561 - val_accuracy: 0.8158\n",
            "Epoch 16/20\n",
            "450/450 [==============================] - 521s 1s/step - loss: 0.0454 - accuracy: 0.7653 - val_loss: 0.0573 - val_accuracy: 0.8569\n",
            "Epoch 17/20\n",
            "450/450 [==============================] - 528s 1s/step - loss: 0.0442 - accuracy: 0.7765 - val_loss: 0.0611 - val_accuracy: 0.7411\n",
            "Epoch 18/20\n",
            "450/450 [==============================] - 529s 1s/step - loss: 0.0434 - accuracy: 0.7740 - val_loss: 0.1162 - val_accuracy: 0.2069\n",
            "Epoch 19/20\n",
            "450/450 [==============================] - 531s 1s/step - loss: 0.0426 - accuracy: 0.7866 - val_loss: 0.1176 - val_accuracy: 0.6725\n",
            "Epoch 20/20\n",
            "450/450 [==============================] - 528s 1s/step - loss: 0.0405 - accuracy: 0.7985 - val_loss: 0.0871 - val_accuracy: 0.4789\n"
          ]
        }
      ],
      "source": [
        "model.compile(\n",
        "    optimizer='adam',\n",
        "              loss='binary_crossentropy',\n",
        "              metrics=['accuracy']\n",
        ")\n",
        "\n",
        "history = model.fit(train_data, train_results,\n",
        "    epochs=20, batch_size=32, validation_split=0.2)"
      ]
    },
    {
      "cell_type": "markdown",
      "source": [
        "Сохраняем веса модели.\n",
        "\n"
      ],
      "metadata": {
        "id": "FjSW6OmcsbJK"
      }
    },
    {
      "cell_type": "code",
      "execution_count": null,
      "metadata": {
        "colab": {
          "base_uri": "https://localhost:8080/"
        },
        "id": "GvV-vhZWm06p",
        "outputId": "4ac390e6-38d8-44f2-8dcd-6bee1f947b13"
      },
      "outputs": [
        {
          "output_type": "stream",
          "name": "stderr",
          "text": [
            "/usr/local/lib/python3.10/dist-packages/keras/src/engine/training.py:3103: UserWarning: You are saving your model as an HDF5 file via `model.save()`. This file format is considered legacy. We recommend using instead the native Keras format, e.g. `model.save('my_model.keras')`.\n",
            "  saving_api.save_model(\n"
          ]
        }
      ],
      "source": [
        "model.save( 'model_weights.h5' )"
      ]
    },
    {
      "cell_type": "code",
      "execution_count": null,
      "metadata": {
        "colab": {
          "base_uri": "https://localhost:8080/",
          "height": 482
        },
        "id": "mZWrWmJegWvf",
        "outputId": "9d51c40d-bb1b-497e-b6a0-cc722fd5e29b"
      },
      "outputs": [
        {
          "data": {
            "text/plain": [
              "Text(0, 0.5, 'Accuracy')"
            ]
          },
          "execution_count": 24,
          "metadata": {},
          "output_type": "execute_result"
        },
        {
          "data": {
            "image/png": "[encoded data removed]",
            "text/plain": [
              "<Figure size 1000x500 with 2 Axes>"
            ]
          },
          "metadata": {},
          "output_type": "display_data"
        }
      ],
      "source": [
        "metrics = history.history\n",
        "plt.figure(figsize=(10, 5))\n",
        "plt.subplot(1, 2, 1)\n",
        "plt.plot(history.epoch, metrics['loss'], metrics['val_loss'])\n",
        "plt.legend(['loss', 'val_loss'])\n",
        "plt.xlabel('Epoch')\n",
        "plt.ylabel('Loss')\n",
        "plt.subplot(1, 2, 2)\n",
        "plt.plot(history.epoch, metrics['accuracy'], metrics['val_accuracy'])\n",
        "plt.legend(['accuracy', 'val_accuracy'])\n",
        "plt.xlabel('Epoch')\n",
        "plt.ylabel('Accuracy')"
      ]
    },
    {
      "cell_type": "markdown",
      "source": [
        "Загружаем тестовые данные."
      ],
      "metadata": {
        "id": "AgFTN17Rsnwb"
      }
    },
    {
      "cell_type": "code",
      "source": [
        "test_data = np.load('/content/drive/MyDrive/data.npy')\n",
        "test_result = np.load('/content/drive/MyDrive/results.npy')"
      ],
      "metadata": {
        "id": "71mdF7Cgjvqt"
      },
      "execution_count": null,
      "outputs": []
    },
    {
      "cell_type": "markdown",
      "source": [
        "Предсказываем вероятность обнаружения болезней по тестовым данным."
      ],
      "metadata": {
        "id": "DIAfiLsjsvBC"
      }
    },
    {
      "cell_type": "code",
      "execution_count": null,
      "metadata": {
        "colab": {
          "base_uri": "https://localhost:8080/"
        },
        "id": "duEcvOfeiRUb",
        "outputId": "27d03ad7-afd3-4acd-8d46-d67472ce8522"
      },
      "outputs": [
        {
          "name": "stdout",
          "output_type": "stream",
          "text": [
            "16/16 [==============================] - 7s 398ms/step\n"
          ]
        }
      ],
      "source": [
        "res = model.predict(test_data)"
      ]
    },
    {
      "cell_type": "code",
      "execution_count": null,
      "metadata": {
        "colab": {
          "base_uri": "https://localhost:8080/"
        },
        "id": "AGpKgvnyijBV",
        "outputId": "66cb67d6-79cd-4124-ef98-fefe043d25b4"
      },
      "outputs": [
        {
          "name": "stdout",
          "output_type": "stream",
          "text": [
            "[[11.9  0.1  1.3  4.6  0.   1.6]\n",
            " [ 1.7  0.4  0.   0.2  0.   0.1]\n",
            " [ 5.3 10.6  0.2  0.4  0.   4.6]\n",
            " [ 2.8  1.5  0.9  0.   7.5 37.3]\n",
            " [ 0.1  0.   0.   0.   0.   0. ]\n",
            " [13.1  3.8  0.2  1.5  0.1  2.7]\n",
            " [ 1.6  0.2  0.   0.1  0.   0.3]\n",
            " [ 7.5  0.   0.   7.6  0.   0.1]\n",
            " [ 2.9  0.   0.   0.   0.   0.1]\n",
            " [ 1.3 99.2  0.   0.   0.   0.4]\n",
            " [ 4.6  0.3  0.1  0.   0.1  2.7]\n",
            " [ 4.5  0.   0.   0.   0.   0.1]]\n"
          ]
        }
      ],
      "source": [
        "print(np.round(res[58:70]*100, decimals=1))"
      ]
    },
    {
      "cell_type": "code",
      "execution_count": null,
      "metadata": {
        "colab": {
          "base_uri": "https://localhost:8080/"
        },
        "id": "j1r3vQrFilPj",
        "outputId": "1a8467c7-7233-4eef-bd71-a1f00a670600"
      },
      "outputs": [
        {
          "name": "stdout",
          "output_type": "stream",
          "text": [
            "[[0. 0. 0. 1. 0. 0.]\n",
            " [0. 0. 0. 0. 0. 0.]\n",
            " [0. 0. 0. 0. 0. 0.]\n",
            " [0. 0. 0. 0. 0. 1.]\n",
            " [0. 0. 0. 0. 0. 0.]\n",
            " [0. 0. 0. 0. 0. 0.]\n",
            " [0. 0. 0. 0. 0. 0.]\n",
            " [0. 0. 0. 0. 0. 0.]\n",
            " [0. 0. 0. 0. 0. 0.]\n",
            " [0. 1. 0. 0. 0. 0.]\n",
            " [0. 0. 0. 0. 0. 0.]\n",
            " [0. 0. 0. 0. 0. 0.]]\n"
          ]
        }
      ],
      "source": [
        "print(test_result[58:70])"
      ]
    },
    {
      "cell_type": "markdown",
      "source": [
        "Загружаем новую выборку с тренировочными данными."
      ],
      "metadata": {
        "id": "uXd6PKY2s7D9"
      }
    },
    {
      "cell_type": "code",
      "source": [
        "data1 = np.load('/content/drive/MyDrive/data1.npy')\n",
        "result1 = np.load('/content/drive/MyDrive/results1.npy')\n",
        "\n",
        "data0 = np.load('/content/drive/MyDrive/data0.npy')\n",
        "result0 = np.load('/content/drive/MyDrive/results0.npy')"
      ],
      "metadata": {
        "id": "8C76CvEMs6X_"
      },
      "execution_count": null,
      "outputs": []
    },
    {
      "cell_type": "code",
      "source": [
        "train_data_1 = np.vstack([data0[0:9000],data1[0:9000]])\n",
        "train_results_1 = np.vstack([result0[0:9000], result1[0:9000]])"
      ],
      "metadata": {
        "id": "J4skkycTt45W"
      },
      "execution_count": null,
      "outputs": []
    },
    {
      "cell_type": "markdown",
      "source": [
        "Загружаем веса обученной модели."
      ],
      "metadata": {
        "id": "q3CTaGsluwpq"
      }
    },
    {
      "cell_type": "code",
      "source": [
        "model.load_weights('/content/drive/MyDrive/model_weights.h5')"
      ],
      "metadata": {
        "id": "FSbyUuVrucpN"
      },
      "execution_count": null,
      "outputs": []
    },
    {
      "cell_type": "markdown",
      "source": [
        "Компилируем и дообучаем модель на новых данных."
      ],
      "metadata": {
        "id": "4tWEf5UMvC7p"
      }
    },
    {
      "cell_type": "code",
      "source": [
        "model.compile(\n",
        "    optimizer='adam',\n",
        "              loss='binary_crossentropy',\n",
        "              metrics=['accuracy']\n",
        ")\n",
        "\n",
        "new_history = model.fit(train_data_1, train_results_1,\n",
        "    epochs=20, batch_size=32, validation_split=0.2)"
      ],
      "metadata": {
        "colab": {
          "base_uri": "https://localhost:8080/"
        },
        "id": "p8YzV6g4u89f",
        "outputId": "246860db-95c6-44fa-f4fa-4ed12f220756"
      },
      "execution_count": null,
      "outputs": [
        {
          "output_type": "stream",
          "name": "stdout",
          "text": [
            "Epoch 1/20\n",
            "450/450 [==============================] - 482s 1s/step - loss: 0.0517 - accuracy: 0.7415 - val_loss: 0.0498 - val_accuracy: 0.5353\n",
            "Epoch 2/20\n",
            "450/450 [==============================] - 496s 1s/step - loss: 0.0476 - accuracy: 0.7481 - val_loss: 0.0658 - val_accuracy: 0.7303\n",
            "Epoch 3/20\n",
            "450/450 [==============================] - 509s 1s/step - loss: 0.0458 - accuracy: 0.7631 - val_loss: 0.0910 - val_accuracy: 0.5608\n",
            "Epoch 4/20\n",
            "450/450 [==============================] - 505s 1s/step - loss: 0.0447 - accuracy: 0.7763 - val_loss: 0.0587 - val_accuracy: 0.7844\n",
            "Epoch 5/20\n",
            "450/450 [==============================] - 514s 1s/step - loss: 0.0425 - accuracy: 0.7553 - val_loss: 0.0625 - val_accuracy: 0.8244\n",
            "Epoch 6/20\n",
            "450/450 [==============================] - 502s 1s/step - loss: 0.0407 - accuracy: 0.7978 - val_loss: 0.0495 - val_accuracy: 0.6539\n",
            "Epoch 7/20\n",
            "450/450 [==============================] - 521s 1s/step - loss: 0.0394 - accuracy: 0.8119 - val_loss: 0.0537 - val_accuracy: 0.7772\n",
            "Epoch 8/20\n",
            "450/450 [==============================] - 521s 1s/step - loss: 0.0367 - accuracy: 0.8260 - val_loss: 0.0529 - val_accuracy: 0.8167\n",
            "Epoch 9/20\n",
            "450/450 [==============================] - 492s 1s/step - loss: 0.0353 - accuracy: 0.8117 - val_loss: 0.0513 - val_accuracy: 0.8200\n",
            "Epoch 10/20\n",
            "450/450 [==============================] - 495s 1s/step - loss: 0.0335 - accuracy: 0.8358 - val_loss: 0.0572 - val_accuracy: 0.8414\n",
            "Epoch 11/20\n",
            "450/450 [==============================] - 476s 1s/step - loss: 0.0323 - accuracy: 0.8252 - val_loss: 0.0579 - val_accuracy: 0.8586\n",
            "Epoch 12/20\n",
            "450/450 [==============================] - 488s 1s/step - loss: 0.0294 - accuracy: 0.8333 - val_loss: 0.0631 - val_accuracy: 0.7006\n",
            "Epoch 13/20\n",
            "450/450 [==============================] - 498s 1s/step - loss: 0.0271 - accuracy: 0.8331 - val_loss: 0.0705 - val_accuracy: 0.7347\n",
            "Epoch 14/20\n",
            "450/450 [==============================] - 489s 1s/step - loss: 0.0255 - accuracy: 0.8472 - val_loss: 0.0626 - val_accuracy: 0.8317\n",
            "Epoch 15/20\n",
            "450/450 [==============================] - 467s 1s/step - loss: 0.0236 - accuracy: 0.8450 - val_loss: 0.1013 - val_accuracy: 0.8769\n",
            "Epoch 16/20\n",
            "450/450 [==============================] - 480s 1s/step - loss: 0.0221 - accuracy: 0.8345 - val_loss: 0.0683 - val_accuracy: 0.7517\n",
            "Epoch 17/20\n",
            "450/450 [==============================] - 469s 1s/step - loss: 0.0197 - accuracy: 0.8037 - val_loss: 0.0655 - val_accuracy: 0.8044\n",
            "Epoch 18/20\n",
            "450/450 [==============================] - 481s 1s/step - loss: 0.0188 - accuracy: 0.8146 - val_loss: 0.0840 - val_accuracy: 0.8186\n",
            "Epoch 19/20\n",
            "450/450 [==============================] - 477s 1s/step - loss: 0.0170 - accuracy: 0.7612 - val_loss: 0.0719 - val_accuracy: 0.7956\n",
            "Epoch 20/20\n",
            "450/450 [==============================] - 469s 1s/step - loss: 0.0159 - accuracy: 0.7563 - val_loss: 0.0821 - val_accuracy: 0.7858\n"
          ]
        }
      ]
    },
    {
      "cell_type": "markdown",
      "source": [
        "Сохраняем веса модели."
      ],
      "metadata": {
        "id": "x4nBeD2mN20j"
      }
    },
    {
      "cell_type": "code",
      "source": [
        "model.save( 'new_model_weights.h5' )"
      ],
      "metadata": {
        "colab": {
          "base_uri": "https://localhost:8080/"
        },
        "id": "6JINMysxXzrn",
        "outputId": "f562dc4b-b013-4226-e8b5-464aa8ce0f01"
      },
      "execution_count": null,
      "outputs": [
        {
          "output_type": "stream",
          "name": "stderr",
          "text": [
            "/usr/local/lib/python3.10/dist-packages/keras/src/engine/training.py:3103: UserWarning: You are saving your model as an HDF5 file via `model.save()`. This file format is considered legacy. We recommend using instead the native Keras format, e.g. `model.save('my_model.keras')`.\n",
            "  saving_api.save_model(\n"
          ]
        }
      ]
    }
  ],
  "metadata": {
    "colab": {
      "provenance": []
    },
    "kernelspec": {
      "display_name": "Python 3",
      "name": "python3"
    },
    "language_info": {
      "name": "python"
    }
  },
  "nbformat": 4,
  "nbformat_minor": 0
}